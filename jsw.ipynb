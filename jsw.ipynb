{
 "cells": [
  {
   "cell_type": "code",
   "execution_count": 2,
   "metadata": {},
   "outputs": [],
   "source": [
    "dic = {'깍자바': {'종류': '원예용 살충제',\r\n",
    "  '설명': '고함량 고순도 깍지벌레류 방제의 새로운 기준',\r\n",
    "  '품목명': '뷰프로페진, 이미다클로프리드 액상수화제',\r\n",
    "  '음성': './data/agri_chem/ggak.mp3'},\r\n",
    " '근초대왕': {'종류': '원예용 비선택성제초제',\r\n",
    "  '설명': '잎부터 뿌리까지 확실한 살초작용',\r\n",
    "  '품목명': '글리포세이트이소프로필아민 액제',\r\n",
    "  '음성': './data/agri_chem/geun.mp3'},\r\n",
    " '팬텀': {'종류': '원예용 종합 살충제', '설명': '외래해충 전문 약제', '품목명': '디노테퓨란 입상수화제', '음성': './data/agri_chem/phan.mp3'},\r\n",
    " '보가드': {'종류': '원예용 살균제', '설명': '광범위 종합살균제', '품목명': '디페노코나졸 입상수화제', '음성': './data/agri_chem/bo.mp3'}}"
   ]
  },
  {
   "cell_type": "code",
   "execution_count": 3,
   "metadata": {},
   "outputs": [],
   "source": [
    "import json"
   ]
  },
  {
   "cell_type": "code",
   "execution_count": 4,
   "metadata": {},
   "outputs": [],
   "source": [
    "dic_path = '.\\\\data\\\\agri_chem\\\\data.json'"
   ]
  },
  {
   "cell_type": "code",
   "execution_count": 6,
   "metadata": {},
   "outputs": [],
   "source": [
    "with open(dic_path, 'w', encoding='utf-8') as f:\r\n",
    "    json.dump(dic, f, indent='\\t')"
   ]
  },
  {
   "cell_type": "code",
   "execution_count": null,
   "metadata": {},
   "outputs": [],
   "source": []
  }
 ],
 "metadata": {
  "interpreter": {
   "hash": "5f292722d6d50c2426abae6fd15a85386b49c5393ec98f1c35f79e4e4dd7448b"
  },
  "kernelspec": {
   "display_name": "Python 3.8.8 64-bit ('base': conda)",
   "name": "python3"
  },
  "language_info": {
   "codemirror_mode": {
    "name": "ipython",
    "version": 3
   },
   "file_extension": ".py",
   "mimetype": "text/x-python",
   "name": "python",
   "nbconvert_exporter": "python",
   "pygments_lexer": "ipython3",
   "version": "3.8.8"
  },
  "orig_nbformat": 4
 },
 "nbformat": 4,
 "nbformat_minor": 2
}