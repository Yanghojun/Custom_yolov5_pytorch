{
 "cells": [
  {
   "cell_type": "code",
   "execution_count": 27,
   "metadata": {},
   "outputs": [],
   "source": [
    "from PIL import Image, ImageOps\n",
    "import numpy as np\n",
    "import shutil\n",
    "import os\n",
    "from tqdm import tqdm\n",
    "from glob import glob\n",
    "\n",
    "def image_resize(img_path, height, width):\n",
    "    if os.path.isfile(img_path):\n",
    "        print(\"Detect img file...\")\n",
    "        if os.makedirs('resized_data', exist_ok=True):\n",
    "            print(\"Created resized_data directory...\")\n",
    "\n",
    "        img = Image.open(img_path)\n",
    "        img = ImageOps.exif_transpose(img)      # 회전 정보 반영 (Pillow는 자동으로 반영해주지 않으므로)\n",
    "        img_resize = img.resize((width, height), Image.LANCZOS)\n",
    "        img_resize.save(os.path.join('resized_data' + img_path))\n",
    "\n",
    "    else:       # directory\n",
    "        print(\"Detect directory...\")\n",
    "        \n",
    "        fpaths = glob(os.path.join(img_path, '*.jpg'))\n",
    "        for path in tqdm(fpaths, ascii=True):\n",
    "            if os.makedirs('resized_data', exist_ok=True):\n",
    "                print(\"Created resized_data directory...\")\n",
    "            img = Image.open(path)\n",
    "            img = ImageOps.exif_transpose(img)  # 회전 정보 반영 (Pillow는 자동으로 반영해주지 않으므로)\n",
    "            img_resize = img.resize((width, height), Image.LANCZOS)\n",
    "            img_resize.save(os.path.join('./resized_data/' + path.split('\\\\')[-1]))\n",
    "    \n",
    "    print(\"Done..!\")"
   ]
  },
  {
   "cell_type": "code",
   "execution_count": 28,
   "metadata": {},
   "outputs": [
    {
     "name": "stdout",
     "output_type": "stream",
     "text": [
      "Detect directory...\n"
     ]
    },
    {
     "name": "stderr",
     "output_type": "stream",
     "text": [
      "100%|##########| 3095/3095 [14:19<00:00,  3.60it/s]\n"
     ]
    }
   ],
   "source": [
    "image_resize('./Images/', height=480, width=640)        # 디렉토리는 끝에 /를 붙여주는것이 중요하다"
   ]
  },
  {
   "cell_type": "code",
   "execution_count": null,
   "metadata": {},
   "outputs": [],
   "source": []
  }
 ],
 "metadata": {
  "interpreter": {
   "hash": "bcbafe70f883e14d7611556a42c89c5818daa996ce73e89781e42f3f6c5db68d"
  },
  "kernelspec": {
   "display_name": "Python 3.9.7 ('yolov5')",
   "language": "python",
   "name": "python3"
  },
  "language_info": {
   "codemirror_mode": {
    "name": "ipython",
    "version": 3
   },
   "file_extension": ".py",
   "mimetype": "text/x-python",
   "name": "python",
   "nbconvert_exporter": "python",
   "pygments_lexer": "ipython3",
   "version": "3.9.7"
  },
  "orig_nbformat": 4
 },
 "nbformat": 4,
 "nbformat_minor": 2
}
